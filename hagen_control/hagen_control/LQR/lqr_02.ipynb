{
  "cells": [
    {
      "cell_type": "code",
      "execution_count": null,
      "metadata": {
        "id": "0NkKxta4lib7"
      },
      "outputs": [],
      "source": [
        "import numpy as np\n",
        "import matplotlib.pyplot as plt"
      ]
    },
    {
      "cell_type": "markdown",
      "metadata": {
        "id": "WrEHbu0anIiU"
      },
      "source": [
        "##**System Forward Kinematics**: \n",
        "\n",
        "Recall the kinematics of diff drive system:\n",
        "\n",
        "\\begin{equation} \n",
        "\\begin{bmatrix}\n",
        "x_t \\\\ \n",
        "y_t \\\\ \n",
        "\\gamma_t\n",
        "\\end{bmatrix} \n",
        "= \n",
        "\\begin{bmatrix}\n",
        "x_{t-1} + v_{t-1}\\cos\\gamma_{t-1}dt\\\\ \n",
        "y_{t-1} + v_{t-1}\\sin\\gamma_{t-1}dt\\\\ \n",
        "\\gamma_{t-1} + \\omega_{t-1} dt\n",
        "\\end{bmatrix} \n",
        "\\end{equation}\n",
        "\n",
        "Then the state space model is as follows:\n",
        "\\begin{equation} \n",
        "\\begin{bmatrix}\n",
        "x_t \\\\ \n",
        "y_t \\\\ \n",
        "\\gamma_t\n",
        "\\end{bmatrix} \n",
        "=\n",
        "\\begin{bmatrix}\n",
        "1 & 0 & 0\\\\\n",
        "0 & 1 & 0\\\\\n",
        "0 & 0 & 1\n",
        "\\end{bmatrix} \n",
        "\\begin{bmatrix}\n",
        "x_{t-1} \\\\ \n",
        "y_{t-1} \\\\ \n",
        "\\theta_{t-1} \n",
        "\\end{bmatrix}\n",
        "+ \n",
        "\\begin{bmatrix}\n",
        "\\cos\\gamma_{t-1}dt & 0\\\\ \n",
        "\\sin\\gamma_{t-1}dt & 0\\\\ \n",
        "0 & dt\n",
        "\\end{bmatrix} \n",
        "\\begin{bmatrix}\n",
        "v_{t-1} \\\\ \n",
        "\\omega_{t-1} \n",
        "\\end{bmatrix} \n",
        "\\end{equation}\n",
        "\n",
        "which corresponds to \n",
        "\\begin{equation} \n",
        "x_t  = A_{t-1}x_{t-1} + B_{t-1}u_{t-1} \n",
        "\\end{equation}\n",
        "\n",
        "where \n",
        "- $x_t$ is the current state vector at time t in the global coordinate frame.\n",
        "- $x_{t-1}$ is the state vector at time t-1 in the global coordinate frame.\n",
        "- $u_{t-1}$ represents the control input vector at time t-1.\n",
        "- A and B are the state transition matrices.\n",
        "\n",
        "We want to choose control inputs $u_{t-1}$ such that\n",
        "\n",
        "1- $x_t$ actual – $x_t$ desired is small i.e. we get good control.\n",
        "\n",
        "2- $u_{t-1}$ is small i.e. we use a minimal amount of actuator effort (i.e. control input, motor, etc.).\n",
        "\n",
        "Both of these are competing objectives. A large u can drive the state error down really fast. A small u means the state error will remain really large. LQR was designed to solve this problem.\n",
        "\n",
        "We let dt = 1 second. dt represents the interval between timesteps."
      ]
    },
    {
      "cell_type": "code",
      "execution_count": null,
      "metadata": {
        "id": "GX-kEka3qDd-"
      },
      "outputs": [],
      "source": [
        "# Supress scientific notation when printing NumPy arrays\n",
        "np.set_printoptions(precision=3,suppress=True)\n",
        "# Optional Variables\n",
        "max_linear_velocity = 3.0 # meters per second\n",
        "max_angular_velocity = 1.5708 # radians per second"
      ]
    },
    {
      "cell_type": "code",
      "execution_count": null,
      "metadata": {
        "id": "oKSJu_E51aLK"
      },
      "outputs": [],
      "source": [
        "def getB(yaw, deltat):\n",
        "  \"\"\"\n",
        "  Calculates and returns the B matrix 3x2 matix ---> number of states x number of control inputs\n",
        " \n",
        "  Expresses how the state of the system [x,y,yaw] changes from t-1 to t due to the control commands (i.e. control inputs).\n",
        "     \n",
        "  :param yaw: The yaw angle (rotation angle around the z axis) in radians \n",
        "  :param deltat: The change in time from timestep t-1 to t in seconds\n",
        "     \n",
        "  :return: B matrix ---> 3x2 NumPy array\n",
        "  \"\"\"\n",
        "  B = np.array([[np.cos(yaw)*deltat, 0],\n",
        "                [np.sin(yaw)*deltat, 0],\n",
        "                [0, deltat]])\n",
        "  return B"
      ]
    },
    {
      "cell_type": "code",
      "execution_count": null,
      "metadata": {
        "id": "odaGXLOx2ZAY"
      },
      "outputs": [],
      "source": [
        "def state_space_model(A, state_t_minus_1, B, control_input_t_minus_1):\n",
        "  \"\"\"\n",
        "  Calculates the state at time t given the state at time t-1 and the control inputs applied at time t-1\n",
        " \n",
        "  :param A: The A state transition matrix 3x3 NumPy Array\n",
        "  :param state_t_minus_1: The state at time t-1 3x1 NumPy Array given the state is [x,y,yaw angle] ---> [meters, meters, radians]\n",
        "  :param B: The B state transition matrix 3x2 NumPy Array\n",
        "  :param control_input_t_minus_1: Optimal control inputs at time t-1 2x1 NumPy Array given the control input vector is [linear velocity of the car (m/s), angular velocity of the car (rad/s)]\n",
        "         \n",
        "  :return State estimate at time t: 3x1 NumPy Array given the state is [x,y,yaw angle] ---> [meters, meters, radians]\n",
        "  \"\"\"\n",
        "\n",
        "  # These next lines of code which place limits on the angular and linear velocities of the robot car can be removed if you desire.\n",
        "  control_input_t_minus_1[0] = np.clip(control_input_t_minus_1[0], -max_linear_velocity, max_linear_velocity)\n",
        "  control_input_t_minus_1[1] = np.clip(control_input_t_minus_1[1], -max_angular_velocity, max_angular_velocity)\n",
        "\n",
        "  state_estimate_t = (A @ state_t_minus_1) + (B @ control_input_t_minus_1)\n",
        "\n",
        "  return state_estimate_t"
      ]
    },
    {
      "cell_type": "code",
      "execution_count": null,
      "metadata": {
        "id": "ODSHgDum3NlA"
      },
      "outputs": [],
      "source": [
        "def lqr(actual_state_x, desired_state_xf, Q, R, A, B):\n",
        "  \"\"\"\n",
        "  Discrete-time linear quadratic regulator for a nonlinear system.\n",
        "  Compute the optimal control inputs given a nonlinear system, cost matrices, current state, and a final state.\n",
        "     \n",
        "  Compute the control variables that minimize the cumulative cost.\n",
        " \n",
        "  Solve for P using the dynamic programming method.\n",
        " \n",
        "  :param actual_state_x: The current state of the system 3x1 NumPy Array given the state is [x,y,yaw angle] ---> [meters, meters, radians]\n",
        "  :param desired_state_xf: The desired state of the system 3x1 NumPy Array given the state is [x,y,yaw angle] ---> [meters, meters, radians]   \n",
        "  :param Q: The state cost matrix 3x3 NumPy Array\n",
        "  :param R: The input cost matrix 2x2 NumPy Array\n",
        "  :param dt: The size of the timestep in seconds -> float\n",
        " \n",
        "  :return u_star: Optimal action u for the current state  2x1 NumPy Array given the control input vector is [linear velocity of the car (m/s), angular velocity of the car (rad/s)]\n",
        "  \"\"\"\n",
        "\n",
        "  # We want the system to stabilize at desired_state_xf.\n",
        "  x_error = actual_state_x - desired_state_xf\n",
        "  \n",
        "  # Solutions to discrete LQR problems are obtained using the dynamic programming method.\n",
        "  # The optimal solution is obtained recursively, starting at the last timestep and working backwards.\n",
        "  # You can play with this number\n",
        "  N = 50\n",
        "  # Create a list of N + 1 elements\n",
        "  P = [None] * (N + 1)\n",
        "  Qf = Q\n",
        "  \n",
        "  # LQR via Dynamic Programming\n",
        "  P[N] = Qf\n",
        "  \n",
        "  # For i = N, ..., 1\n",
        "  for i in range(N, 0, -1):\n",
        "    # Discrete-time Algebraic Riccati equation to calculate the optimal state cost matrix\n",
        "    P[i-1] = Q + A.T @ P[i] @ A - (A.T @ P[i] @ B) @ np.linalg.pinv(R + B.T @ P[i] @ B) @ (B.T @ P[i] @ A)      \n",
        "    \n",
        "  # Create a list of N elements\n",
        "  K = [None] * N\n",
        "  u = [None] * N\n",
        "    \n",
        "  # For i = 0, ..., N - 1\n",
        "  for i in range(N):\n",
        "    # Calculate the optimal feedback gain K\n",
        "    K[i] = -np.linalg.pinv(R + B.T @ P[i+1] @ B) @ B.T @ P[i+1] @ A\n",
        "    u[i] = K[i] @ x_error\n",
        "  \n",
        "  # Optimal control input is u_star\n",
        "  u_star = u[N-1]\n",
        "  \n",
        "  return u_star"
      ]
    },
    {
      "cell_type": "code",
      "execution_count": null,
      "metadata": {
        "colab": {
          "base_uri": "https://localhost:8080/"
        },
        "id": "Fc-xkZjPtlBH",
        "outputId": "93833a3b-fcb5-4703-cc8f-f749e5d0dc07"
      },
      "outputs": [
        {
          "output_type": "stream",
          "name": "stdout",
          "text": [
            "iteration = 0 seconds\n",
            "Current State = [0 0 0]\n",
            "Desired State = [2.    2.    1.571]\n",
            "State Error Magnitude = 3.2353363194994644\n",
            "Control Input = [1.969 1.555]\n",
            "\n",
            "iteration = 1 seconds\n",
            "Current State = [1.969 0.    1.555]\n",
            "Desired State = [2.    2.    1.571]\n",
            "State Error Magnitude = 2.0002978637484863\n",
            "Control Input = [1.98  0.015]\n",
            "\n",
            "iteration = 2 seconds\n",
            "Current State = [2.    1.98  1.571]\n",
            "Desired State = [2.    2.    1.571]\n",
            "State Error Magnitude = 0.019807158896646308\n",
            "Control Input = [0.02 0.  ]\n",
            "\n",
            "iteration = 3 seconds\n",
            "Current State = [2.    2.    1.571]\n",
            "Desired State = [2.    2.    1.571]\n",
            "State Error Magnitude = 0.00019662973052900144\n",
            "Control Input = [0. 0.]\n",
            "\n",
            "Goal Has Been Reached Successfully!\n"
          ]
        }
      ],
      "source": [
        "# Let the time interval be 1.0 seconds\n",
        "t0 = t = 0\n",
        "dt = 1\n",
        "\n",
        "# Actual state\n",
        "# Our robot starts out at the origin (x=0 meters, y=0 meters), and the yaw angle is 0 radians. \n",
        "actual_state_x = np.array([0,0,0])\n",
        "\n",
        "# Desired state [x,y,yaw angle] ---> [meters, meters, radians]\n",
        "desired_state_xf = np.array([2.000,2.000,np.pi/2])  \n",
        "\n",
        "# A matrix (sometimes F in the literature) 3x3 matrix -> number of states x number of states matrix\n",
        "# Expresses how the state of the system [x,y,yaw] changes from t-1 to t when no control command is executed.\n",
        "# For this case, A is the identity matrix.\n",
        "A = np.eye(3)\n",
        "\n",
        "# R matrix: The control input cost matrix\n",
        "# This matrix penalizes actuator effort (i.e. rotation of the motors on the wheels that drive the linear velocity and angular velocity).\n",
        "# We can target control inputs where we want low actuator effort by making the corresponding value of R large. \n",
        "R = np.array([[0.01, 0],  # Penalty for linear velocity effort\n",
        "              [0, 0.01]]) # Penalty for angular velocity effort\n",
        "\n",
        "# Q matrix: The state cost matrix.\n",
        "# Q helps us weigh the relative importance of each state in the state vector (X, Y, YAW ANGLE). \n",
        "# Q penalizes bad performance. It enables us to target states where we want low error by making the corresponding value of Q large.\n",
        "Q = np.array([[0.639, 0, 0], # Penalize X position error\n",
        "              [0, 1.0, 0],   # Penalize Y position error \n",
        "              [0, 0, 1.0]])  # Penalize YAW ANGLE heading error \n",
        "\n",
        "Actual_State_X = actual_state_x\n",
        "# Launch the robot, and have it move to the desired goal destination\n",
        "for i in range(100):\n",
        "  print(f'iteration = {i} seconds')\n",
        "  print(f'Current State = {actual_state_x}')\n",
        "  print(f'Desired State = {desired_state_xf}')\n",
        "  \n",
        "  state_error = actual_state_x - desired_state_xf\n",
        "  state_error_magnitude = np.linalg.norm(state_error)\n",
        "  print(f'State Error Magnitude = {state_error_magnitude}')\n",
        "\n",
        "  B = getB(actual_state_x[2], dt)\n",
        "\n",
        "  # LQR returns the optimal control input\n",
        "  optimal_control_input = lqr(actual_state_x, desired_state_xf, Q, R, A, B) \n",
        "  print(f'Control Input = {optimal_control_input}')\n",
        "\n",
        "  # We apply the optimal control to the robot so we can get a new actual (estimated) state.\n",
        "  actual_state_x = state_space_model(A, actual_state_x, B, optimal_control_input)  \n",
        "  Actual_State_X = np.vstack([Actual_State_X, actual_state_x])\n",
        "  t = t+dt\n",
        "  # Stop as soon as we reach the goal\n",
        "  # Feel free to change this threshold value.\n",
        "  if state_error_magnitude < 0.01:\n",
        "    print(\"\\nGoal Has Been Reached Successfully!\")\n",
        "    break\n",
        "  \n",
        "  print()"
      ]
    },
    {
      "cell_type": "code",
      "execution_count": null,
      "metadata": {
        "colab": {
          "base_uri": "https://localhost:8080/",
          "height": 282
        },
        "id": "UdZ_hAjLCfVJ",
        "outputId": "afa6d992-a0c8-4ecf-e80d-aab809c57ef2"
      },
      "outputs": [
        {
          "output_type": "display_data",
          "data": {
            "text/plain": [
              "<Figure size 432x288 with 1 Axes>"
            ],
            "image/png": "[encoded data removed]"
          },
          "metadata": {
            "needs_background": "light"
          }
        }
      ],
      "source": [
        "x_l, y_l, theta_l = Actual_State_X[:,0], Actual_State_X[:,1], Actual_State_X[:,2] \n",
        "t_span = np.linspace(t0, t, Actual_State_X.shape[0])\n",
        "# Plot the resulst\n",
        "plt.plot(t_span, x_l, 'r--', linewidth=2.0, label = r'$x$')\n",
        "plt.plot(t_span, y_l, 'b--', linewidth=2.0, label = r'$y$')\n",
        "plt.plot(t_span, theta_l, 'k--', linewidth=2.0, label = r'$\\theta$')\n",
        "plt.grid(color='black', linestyle='--', linewidth=1.0, alpha = 0.7)\n",
        "plt.grid(True)\n",
        "plt.legend()\n",
        "plt.xlim([t0, t])\n",
        "plt.ylabel(r'Coordinates $x,y,\\theta$')\n",
        "plt.xlabel(r'Time $t$ (s)')\n",
        "plt.show()"
      ]
    }
  ],
  "metadata": {
    "colab": {
      "provenance": []
    },
    "kernelspec": {
      "display_name": "Python 3",
      "name": "python3"
    },
    "language_info": {
      "name": "python"
    }
  },
  "nbformat": 4,
  "nbformat_minor": 0
}